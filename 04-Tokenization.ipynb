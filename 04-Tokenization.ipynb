{
 "cells": [
  {
   "cell_type": "code",
   "execution_count": 7,
   "id": "b00c0027-2f39-4db1-b0aa-28dbd762c534",
   "metadata": {},
   "outputs": [
    {
     "data": {
      "text/plain": [
       "30522"
      ]
     },
     "execution_count": 7,
     "metadata": {},
     "output_type": "execute_result"
    }
   ],
   "source": [
    "from transformers import DistilBertTokenizer\n",
    "tokenizer=DistilBertTokenizer.from_pretrained('distilbert-base-uncased')\n",
    "len(tokenizer.vocab)"
   ]
  },
  {
   "cell_type": "code",
   "execution_count": 8,
   "id": "c2b1cfed-1972-45c2-b2dd-c81a53d01f19",
   "metadata": {},
   "outputs": [],
   "source": [
    "with open(\"vocabulary.txt\", 'w') as f:\n",
    "    \n",
    "    # For each token...\n",
    "    for token in tokenizer.vocab.keys():\n",
    "        \n",
    "        # Write it out and escape any unicode characters.            \n",
    "        f.write(token + '\\n')"
   ]
  },
  {
   "cell_type": "code",
   "execution_count": 9,
   "id": "668c647f-0f99-4b45-b412-ef2e7463bbb4",
   "metadata": {},
   "outputs": [],
   "source": [
    "import csv"
   ]
  },
  {
   "cell_type": "code",
   "execution_count": 13,
   "id": "cfde8b5d-9aeb-4c6d-96f5-cc6016e1f4c6",
   "metadata": {},
   "outputs": [],
   "source": [
    "with open('vocabulary.csv', 'w') as f:\n",
    "    fieldnames = ['words']\n",
    "    writer = csv.DictWriter(f,fieldnames);\n",
    "    writer.writeheader()\n",
    "    for token in tokenizer.vocab.keys():\n",
    "        writer.writerow({'words': token})"
   ]
  },
  {
   "cell_type": "code",
   "execution_count": 19,
   "id": "4b46a1fa-8087-4494-a001-f0b89de47c2b",
   "metadata": {},
   "outputs": [],
   "source": [
    "token=tokenizer.encode(\"Can I have my Indian \")"
   ]
  },
  {
   "cell_type": "code",
   "execution_count": 20,
   "id": "846899fa-94d0-4f1c-be26-ab71b0f0eec3",
   "metadata": {},
   "outputs": [
    {
     "data": {
      "text/plain": [
       "[101, 21072, 1010, 3345, 2026, 2944, 102]"
      ]
     },
     "execution_count": 20,
     "metadata": {},
     "output_type": "execute_result"
    }
   ],
   "source": [
    "token"
   ]
  },
  {
   "cell_type": "code",
   "execution_count": 21,
   "id": "18fbf9fe-23ff-4737-9b88-adb67438d480",
   "metadata": {},
   "outputs": [
    {
     "data": {
      "text/plain": [
       "['[CLS]', 'jarvis', ',', 'train', 'my', 'model', '[SEP]']"
      ]
     },
     "execution_count": 21,
     "metadata": {},
     "output_type": "execute_result"
    }
   ],
   "source": [
    "tokenizer.convert_ids_to_tokens(token)"
   ]
  },
  {
   "cell_type": "code",
   "execution_count": null,
   "id": "717c0b07-91f6-42ff-8d88-419431fffe7f",
   "metadata": {},
   "outputs": [],
   "source": []
  }
 ],
 "metadata": {
  "kernelspec": {
   "display_name": "Python 3",
   "language": "python",
   "name": "python3"
  },
  "language_info": {
   "codemirror_mode": {
    "name": "ipython",
    "version": 3
   },
   "file_extension": ".py",
   "mimetype": "text/x-python",
   "name": "python",
   "nbconvert_exporter": "python",
   "pygments_lexer": "ipython3",
   "version": "3.8.5"
  }
 },
 "nbformat": 4,
 "nbformat_minor": 5
}
