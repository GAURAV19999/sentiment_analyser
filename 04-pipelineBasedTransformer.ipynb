{
 "cells": [
  {
   "cell_type": "code",
   "execution_count": 5,
   "id": "d539f0b0-5013-4f9a-ab22-01da90f098e3",
   "metadata": {},
   "outputs": [],
   "source": [
    "import pandas as pd"
   ]
  },
  {
   "cell_type": "code",
   "execution_count": 6,
   "id": "7ce125f5-a2f1-417a-929a-4be9e731535e",
   "metadata": {},
   "outputs": [],
   "source": [
    "df = pd.read_csv('data/small_corpus.csv')"
   ]
  },
  {
   "cell_type": "code",
   "execution_count": 18,
   "id": "10c7ff5d-02f4-4523-a0a5-833e81694e04",
   "metadata": {},
   "outputs": [],
   "source": [
    "val = df.head(1)['reviews'].item()"
   ]
  },
  {
   "cell_type": "code",
   "execution_count": 19,
   "id": "b3bbb32d-1df8-4f9c-a108-cfd9b5e05748",
   "metadata": {},
   "outputs": [
    {
     "data": {
      "text/plain": [
       "'Recently UBISOFT had to settle a huge class-action suit brought against the company for bundling (the notoriously harmful) StarFORCE DRM with its released games. So what the geniuses at the helm do next? They decide to make the same mistake yet again - by choosing the same DRM scheme that made BIOSHOCK, MASS EFFECT and SPORE infamous: SecuROM 7.xx with LIMITED ACTIVATIONS!\\n\\nMASS EFFECT can be found in clearance bins only months after its release; SPORE not only undersold miserably but also made history as the boiling point of gamers lashing back, fed up with idiotic DRM schemes. And the clueless MBAs that run an art-form as any other commodity business decided that, \"hey, why not jump into THAT mud-pond ourselves?\"\\n\\nThe original FAR CRY was such a GREAT game that any sequel of it would have to fight an uphill battle to begin with (especially without its original developing team). Now imagine shooting this sequel on the foot with a well known, much hated and totally useless DRM scheme that turns it into another Rent-A-Game no one wants. Were I a UBISOFT stock-holder I would be ordering my broker to \"Sell-Sell!-SELL!!\" instead of posting this...\\n\\nEver since its 7.xx version, SecuROM has NOTHING to do with \"fighting piracy\". All it does in this direction (blocking certain optical and virtual drives) is a very old, lame and already bypassed attempt that serves as a thin smoke-screen. SecuROM is, in fact, an intruding and silent Data-Miner and Root-Hijacker that is delivered by means of popular games.\\nThat is why even the STEAM versions as well as the (free) Demos of such games are infected with it. SecuROM will borrow deep into our PC systems and will refuse to be removed completely even after uninstalling the game it came with. It will retain backdoor access and will keep reporting to its mothership.\\n\\nLately, these security concerns have been accentuated as known Trojans seem to be exploiting SecuROM\\'s backdoor access for their own purposes. In effect, installing a SecuROM-infected game in our computer will be placing your hardware and data at risk long after having uninstalled the game.\\n\\nAnd the latest vehicle to deliver this hazardous snoopware is FAR CRY 2 - a game crippled by LIMITED INSTALLATIONS! No, thanks. I think I \\'ll pass this one too.\\n\\nThe only people who do not care about SecuROM are, in fact,...pirates! Because cracking games \"protected\" by this contraption apparently is very easy. Every single game that was supposedly \"protected\" by SecuROM was cracked hours withing its release!\\nTo everyone else though, SecuROM (or StarFORCE or any other hazardous DRM scheme) is a core issue that needs to be resolved before PC gaming can evolve any further. And the best way to resolve such issues is market correction.\\n\\nThat is why it is important for gamers to keep voting with their wallets. And as with any vote, well informed decisions are paramount in making the right choice.'"
      ]
     },
     "execution_count": 19,
     "metadata": {},
     "output_type": "execute_result"
    }
   ],
   "source": [
    "val"
   ]
  },
  {
   "cell_type": "code",
   "execution_count": 23,
   "id": "7b18d836-ea55-4e09-82c3-61b4091c39fa",
   "metadata": {},
   "outputs": [
    {
     "data": {
      "application/vnd.jupyter.widget-view+json": {
       "model_id": "729255c73bb245b5848294d74e2c271a",
       "version_major": 2,
       "version_minor": 0
      },
      "text/plain": [
       "HBox(children=(HTML(value='Downloading'), FloatProgress(value=0.0, max=629.0), HTML(value='')))"
      ]
     },
     "metadata": {},
     "output_type": "display_data"
    },
    {
     "name": "stdout",
     "output_type": "stream",
     "text": [
      "\n"
     ]
    },
    {
     "data": {
      "application/vnd.jupyter.widget-view+json": {
       "model_id": "d9de7b5f852d45fc8c70c33f5cde9e81",
       "version_major": 2,
       "version_minor": 0
      },
      "text/plain": [
       "HBox(children=(HTML(value='Downloading'), FloatProgress(value=0.0, max=267844284.0), HTML(value='')))"
      ]
     },
     "metadata": {},
     "output_type": "display_data"
    },
    {
     "name": "stdout",
     "output_type": "stream",
     "text": [
      "\n"
     ]
    },
    {
     "data": {
      "application/vnd.jupyter.widget-view+json": {
       "model_id": "f17b67e1e4b24a728335763ecd1cf3fe",
       "version_major": 2,
       "version_minor": 0
      },
      "text/plain": [
       "HBox(children=(HTML(value='Downloading'), FloatProgress(value=0.0, max=231508.0), HTML(value='')))"
      ]
     },
     "metadata": {},
     "output_type": "display_data"
    },
    {
     "name": "stdout",
     "output_type": "stream",
     "text": [
      "\n"
     ]
    },
    {
     "data": {
      "application/vnd.jupyter.widget-view+json": {
       "model_id": "096ba37d715948d196fb29661428358b",
       "version_major": 2,
       "version_minor": 0
      },
      "text/plain": [
       "HBox(children=(HTML(value='Downloading'), FloatProgress(value=0.0, max=48.0), HTML(value='')))"
      ]
     },
     "metadata": {},
     "output_type": "display_data"
    },
    {
     "name": "stdout",
     "output_type": "stream",
     "text": [
      "\n"
     ]
    }
   ],
   "source": [
    "from transformers import pipeline\n",
    "classifier = pipeline('sentiment-analysis')"
   ]
  },
  {
   "cell_type": "code",
   "execution_count": 24,
   "id": "0e0c5c7e-76af-44ea-91d0-791f499cdfdd",
   "metadata": {},
   "outputs": [],
   "source": [
    "output = classifier(val[:512])"
   ]
  },
  {
   "cell_type": "code",
   "execution_count": 29,
   "id": "4f766226-9874-4c51-9ac7-2d8cd73ac726",
   "metadata": {},
   "outputs": [],
   "source": [
    "reviews = list(df[\"reviews\"])"
   ]
  },
  {
   "cell_type": "code",
   "execution_count": 31,
   "id": "bf59b087-7ba1-4bcd-a989-64284892308c",
   "metadata": {},
   "outputs": [
    {
     "data": {
      "text/plain": [
       "2925"
      ]
     },
     "execution_count": 31,
     "metadata": {},
     "output_type": "execute_result"
    }
   ],
   "source": [
    "len(reviews[0])"
   ]
  },
  {
   "cell_type": "code",
   "execution_count": 32,
   "id": "508eba98-856f-415c-a322-353f6c33c51d",
   "metadata": {},
   "outputs": [],
   "source": [
    "output=classifier([reviews[0][:512],reviews[1]])"
   ]
  },
  {
   "cell_type": "code",
   "execution_count": 33,
   "id": "99299a3a-aa4c-4737-a6aa-40ecbe397b1f",
   "metadata": {},
   "outputs": [
    {
     "data": {
      "text/plain": [
       "[{'label': 'NEGATIVE', 'score': 0.9991271495819092},\n",
       " {'label': 'NEGATIVE', 'score': 0.9996480345726013}]"
      ]
     },
     "execution_count": 33,
     "metadata": {},
     "output_type": "execute_result"
    }
   ],
   "source": [
    "df"
   ]
  },
  {
   "cell_type": "code",
   "execution_count": null,
   "id": "79b0fab2-5516-4a28-80f0-e72b94104b18",
   "metadata": {},
   "outputs": [],
   "source": []
  }
 ],
 "metadata": {
  "kernelspec": {
   "display_name": "Python 3",
   "language": "python",
   "name": "python3"
  },
  "language_info": {
   "codemirror_mode": {
    "name": "ipython",
    "version": 3
   },
   "file_extension": ".py",
   "mimetype": "text/x-python",
   "name": "python",
   "nbconvert_exporter": "python",
   "pygments_lexer": "ipython3",
   "version": "3.8.5"
  }
 },
 "nbformat": 4,
 "nbformat_minor": 5
}
