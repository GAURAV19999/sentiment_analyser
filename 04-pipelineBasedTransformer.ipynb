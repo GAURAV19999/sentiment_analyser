{
 "cells": [
  {
   "cell_type": "code",
   "execution_count": 1,
   "id": "d539f0b0-5013-4f9a-ab22-01da90f098e3",
   "metadata": {},
   "outputs": [],
   "source": [
    "import pandas as pd"
   ]
  },
  {
   "cell_type": "code",
   "execution_count": 32,
   "id": "7ce125f5-a2f1-417a-929a-4be9e731535e",
   "metadata": {},
   "outputs": [],
   "source": [
    "df = pd.read_csv('data/small_corpus.csv')\n",
    "df['reviews']= df['reviews'].astype(str)"
   ]
  },
  {
   "cell_type": "code",
   "execution_count": 3,
   "id": "7b18d836-ea55-4e09-82c3-61b4091c39fa",
   "metadata": {},
   "outputs": [],
   "source": [
    "from transformers import pipeline\n",
    "classifier = pipeline('sentiment-analysis')"
   ]
  },
  {
   "cell_type": "code",
   "execution_count": 30,
   "id": "79b0fab2-5516-4a28-80f0-e72b94104b18",
   "metadata": {},
   "outputs": [],
   "source": [
    "def classify(item):\n",
    "    output = classifier(item)[0]\n",
    "    label = output['label']\n",
    "    score = output['score']\n",
    "    return ','.join([label,str(score)])"
   ]
  },
  {
   "cell_type": "code",
   "execution_count": 33,
   "id": "65b88356-3077-465d-8997-2aa76fa1670b",
   "metadata": {},
   "outputs": [],
   "source": [
    "df['label_score'] = df['reviews'].apply(lambda x : classify(x[:512]))"
   ]
  },
  {
   "cell_type": "code",
   "execution_count": 40,
   "id": "575a5027-1401-4d90-a782-7a9f6feee65d",
   "metadata": {},
   "outputs": [],
   "source": [
    "def prediction_to_class(label_score,threshold):\n",
    "    val = label_score.split(',')\n",
    "    label = val[0]\n",
    "    score = float(val[1])\n",
    "    if label == \"NEGATIVE\" and score > threshold:\n",
    "            return 0\n",
    "    elif label == \"POSITIVE\" and score > threshold:\n",
    "        return 2\n",
    "    else:\n",
    "        return 1"
   ]
  },
  {
   "cell_type": "code",
   "execution_count": 41,
   "id": "9d64d5d9-b722-431e-b816-8d7e3cc8fbd5",
   "metadata": {},
   "outputs": [],
   "source": [
    "df['predicted'] = df['label_score'].apply(lambda x : prediction_to_class(x,0.75))"
   ]
  },
  {
   "cell_type": "markdown",
   "id": "6ac3d874-4d6c-4d8d-9588-a01519668bc8",
   "metadata": {},
   "source": [
    "# Results"
   ]
  },
  {
   "cell_type": "code",
   "execution_count": 44,
   "id": "80f18245-6b46-4e13-932f-cddaba0dbabd",
   "metadata": {},
   "outputs": [],
   "source": [
    "def score_to_Target(value):\n",
    "    if value >= 5:\n",
    "        return 2\n",
    "    if value <= 4 and value >= 2:\n",
    "        return 1\n",
    "    else:\n",
    "        return 0"
   ]
  },
  {
   "cell_type": "code",
   "execution_count": 45,
   "id": "c7411bc2-302d-4e6f-abb3-a1440fff0119",
   "metadata": {},
   "outputs": [],
   "source": [
    "df['rating_classes'] = df['ratings'].apply(lambda x:score_to_Target(x))"
   ]
  },
  {
   "cell_type": "code",
   "execution_count": 46,
   "id": "bab2bd80-7cbc-48c0-bc4a-a21fca0c375a",
   "metadata": {},
   "outputs": [],
   "source": [
    "rating_classes = list(df[\"rating_classes\"])\n",
    "predicated_values  = list(df[\"predicted\"])"
   ]
  },
  {
   "cell_type": "code",
   "execution_count": 47,
   "id": "e4c30809-025e-4109-8a62-f6007e47b48f",
   "metadata": {},
   "outputs": [
    {
     "name": "stdout",
     "output_type": "stream",
     "text": [
      "              precision    recall  f1-score   support\n",
      "\n",
      "    negative       0.59      0.92      0.71      1500\n",
      "     neutral       0.50      0.05      0.09      1500\n",
      "    positive       0.65      0.86      0.74      1500\n",
      "\n",
      "    accuracy                           0.61      4500\n",
      "   macro avg       0.58      0.61      0.51      4500\n",
      "weighted avg       0.58      0.61      0.51      4500\n",
      "\n"
     ]
    }
   ],
   "source": [
    "target_names = [\"negative\", \"neutral\", \"positive\"]\n",
    "from sklearn.metrics import classification_report\n",
    "print(classification_report(rating_classes, predicated_values, target_names=target_names))"
   ]
  },
  {
   "cell_type": "code",
   "execution_count": 48,
   "id": "5c3de6df-b6c9-4951-972b-41fbd8df5811",
   "metadata": {},
   "outputs": [],
   "source": [
    "import altair as alt\n",
    "import numpy as np\n",
    "from sklearn.metrics import confusion_matrix\n",
    "x, y = np.meshgrid(range(0, 3), range(0, 3))\n",
    "cm=confusion_matrix(rating_classes, predicated_values, labels=[0, 1, 2])"
   ]
  },
  {
   "cell_type": "code",
   "execution_count": 49,
   "id": "2ba6badb-8a04-4c5a-822e-85e866c5690c",
   "metadata": {},
   "outputs": [],
   "source": [
    "import numpy as np\n",
    "\n",
    "\n",
    "def plot_confusion_matrix(cm,\n",
    "                          target_names,\n",
    "                          title='Confusion matrix',\n",
    "                          cmap=None,\n",
    "                          normalize=True):\n",
    "    \"\"\"\n",
    "    given a sklearn confusion matrix (cm), make a nice plot\n",
    "\n",
    "    Arguments\n",
    "    ---------\n",
    "    cm:           confusion matrix from sklearn.metrics.confusion_matrix\n",
    "\n",
    "    target_names: given classification classes such as [0, 1, 2]\n",
    "                  the class names, for example: ['high', 'medium', 'low']\n",
    "\n",
    "    title:        the text to display at the top of the matrix\n",
    "\n",
    "    cmap:         the gradient of the values displayed from matplotlib.pyplot.cm\n",
    "                  see http://matplotlib.org/examples/color/colormaps_reference.html\n",
    "                  plt.get_cmap('jet') or plt.cm.Blues\n",
    "\n",
    "    normalize:    If False, plot the raw numbers\n",
    "                  If True, plot the proportions\n",
    "\n",
    "    Usage\n",
    "    -----\n",
    "    plot_confusion_matrix(cm           = cm,                  # confusion matrix created by\n",
    "                                                              # sklearn.metrics.confusion_matrix\n",
    "                          normalize    = True,                # show proportions\n",
    "                          target_names = y_labels_vals,       # list of names of the classes\n",
    "                          title        = best_estimator_name) # title of graph\n",
    "\n",
    "    Citiation\n",
    "    ---------\n",
    "    http://scikit-learn.org/stable/auto_examples/model_selection/plot_confusion_matrix.html\n",
    "\n",
    "    \"\"\"\n",
    "    import matplotlib.pyplot as plt\n",
    "    import numpy as np\n",
    "    import itertools\n",
    "\n",
    "    accuracy = np.trace(cm) / float(np.sum(cm))\n",
    "    misclass = 1 - accuracy\n",
    "\n",
    "    if cmap is None:\n",
    "        cmap = plt.get_cmap('Blues')\n",
    "\n",
    "    plt.figure(figsize=(8, 6))\n",
    "    plt.imshow(cm, interpolation='nearest', cmap=cmap)\n",
    "    plt.title(title)\n",
    "    plt.colorbar()\n",
    "\n",
    "    if target_names is not None:\n",
    "        tick_marks = np.arange(len(target_names))\n",
    "        plt.xticks(tick_marks, target_names, rotation=45)\n",
    "        plt.yticks(tick_marks, target_names)\n",
    "\n",
    "    if normalize:\n",
    "        cm = cm.astype('float') / cm.sum(axis=1)[:, np.newaxis]\n",
    "\n",
    "\n",
    "    thresh = cm.max() / 1.5 if normalize else cm.max() / 2\n",
    "    for i, j in itertools.product(range(cm.shape[0]), range(cm.shape[1])):\n",
    "        if normalize:\n",
    "            plt.text(j, i, \"{:0.4f}\".format(cm[i, j]),\n",
    "                     horizontalalignment=\"center\",\n",
    "                     color=\"white\" if cm[i, j] > thresh else \"black\")\n",
    "        else:\n",
    "            plt.text(j, i, \"{:,}\".format(cm[i, j]),\n",
    "                     horizontalalignment=\"center\",\n",
    "                     color=\"white\" if cm[i, j] > thresh else \"black\")\n",
    "\n",
    "\n",
    "    plt.tight_layout()\n",
    "    plt.ylabel('True label')\n",
    "    plt.xlabel('Predicted label\\naccuracy={:0.4f}; misclass={:0.4f}'.format(accuracy, misclass))\n",
    "    plt.show()"
   ]
  },
  {
   "cell_type": "code",
   "execution_count": 50,
   "id": "dab177bf-0f7b-4e06-bcd9-a10d112d966b",
   "metadata": {},
   "outputs": [
    {
     "data": {
      "image/png": "[encoded data removed]",
      "text/plain": [
       "<Figure size 576x432 with 2 Axes>"
      ]
     },
     "metadata": {
      "needs_background": "light"
     },
     "output_type": "display_data"
    }
   ],
   "source": [
    "plot_confusion_matrix(cm           = cm,\n",
    "                      normalize    = False,\n",
    "                      target_names = [\"negative\", \"neutral\", \"positive\"],\n",
    "                      title        = \"Confusion Matrix\")"
   ]
  },
  {
   "cell_type": "code",
   "execution_count": null,
   "id": "5b081dab-484d-45b6-8061-fff2e2eed79b",
   "metadata": {},
   "outputs": [],
   "source": []
  }
 ],
 "metadata": {
  "kernelspec": {
   "display_name": "Python 3",
   "language": "python",
   "name": "python3"
  },
  "language_info": {
   "codemirror_mode": {
    "name": "ipython",
    "version": 3
   },
   "file_extension": ".py",
   "mimetype": "text/x-python",
   "name": "python",
   "nbconvert_exporter": "python",
   "pygments_lexer": "ipython3",
   "version": "3.8.5"
  }
 },
 "nbformat": 4,
 "nbformat_minor": 5
}
