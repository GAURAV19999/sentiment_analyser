{
 "cells": [
  {
   "cell_type": "code",
   "execution_count": null,
   "id": "22601243-c255-4214-b12e-3420461ebdca",
   "metadata": {},
   "outputs": [],
   "source": [
    "import pandas as pd"
   ]
  },
  {
   "cell_type": "code",
   "execution_count": null,
   "id": "2378fbf5-8f12-4d3b-a879-377e4d305818",
   "metadata": {},
   "outputs": [],
   "source": [
    "df = pd.read_csv('data/small_corpus.csv',index_col=0)\n",
    "df['reviews']= df['reviews'].astype(str)"
   ]
  },
  {
   "cell_type": "code",
   "execution_count": null,
   "id": "73592a1c-dd96-41b2-98f5-4322c9bfb04f",
   "metadata": {},
   "outputs": [],
   "source": [
    "df.head()"
   ]
  },
  {
   "cell_type": "code",
   "execution_count": null,
   "id": "b2f598ef-565c-430a-b109-7a9233986f6f",
   "metadata": {},
   "outputs": [],
   "source": [
    "def score_to_Target(value):\n",
    "    if value >= 5:\n",
    "        return 2\n",
    "    if value <= 4 and value >= 2:\n",
    "        return 1\n",
    "    else:\n",
    "        return 0"
   ]
  },
  {
   "cell_type": "code",
   "execution_count": null,
   "id": "47c6bd7c-96d9-45b0-8cd5-7696e600ca9f",
   "metadata": {},
   "outputs": [],
   "source": [
    "df['labels'] = df['ratings'].apply(lambda x:score_to_Target(x))"
   ]
  },
  {
   "cell_type": "code",
   "execution_count": null,
   "id": "c9512eb9-0b14-464f-8819-965ab8d0905c",
   "metadata": {},
   "outputs": [],
   "source": [
    "from sklearn.utils import shuffle\n",
    "df = shuffle(df)"
   ]
  },
  {
   "cell_type": "code",
   "execution_count": null,
   "id": "f2385d9e-2d37-4aa2-9216-6109b9956aeb",
   "metadata": {},
   "outputs": [],
   "source": [
    "df.head()"
   ]
  },
  {
   "cell_type": "code",
   "execution_count": null,
   "id": "91cfe45f-db38-4c70-9eb5-69c07f670a7a",
   "metadata": {},
   "outputs": [],
   "source": [
    "import re\n",
    "import string\n",
    "def clean_text(text):\n",
    "    '''Make text lowercase, remove text in square brackets,remove links,remove punctuation\n",
    "    and remove words containing numbers.'''\n",
    "    text = str(text).lower()\n",
    "    text = re.sub('\\[.*?\\]', '', text)\n",
    "    text = re.sub('https?://\\S+|www\\.\\S+', '', text)\n",
    "    text = re.sub('<.*?>+', '', text)\n",
    "    text = re.sub('[%s]' % re.escape(string.punctuation), '', text)\n",
    "    text = re.sub('\\n', '', text)\n",
    "    text = re.sub('\\w*\\d\\w*', '', text)\n",
    "    return text"
   ]
  },
  {
   "cell_type": "code",
   "execution_count": null,
   "id": "b56faea6-1520-49e7-8cc1-8c06d3d26288",
   "metadata": {},
   "outputs": [],
   "source": [
    "df['text'] = df['reviews'].apply(lambda x:clean_text(x))"
   ]
  },
  {
   "cell_type": "code",
   "execution_count": null,
   "id": "6eafb317-b3c6-4b26-8e77-4881a846bf0a",
   "metadata": {},
   "outputs": [],
   "source": [
    "df.head()"
   ]
  },
  {
   "cell_type": "code",
   "execution_count": null,
   "id": "541d972a-f15b-415f-b990-1fa02e1b35e6",
   "metadata": {},
   "outputs": [],
   "source": [
    "!pip install simpletransformers -q"
   ]
  },
  {
   "cell_type": "code",
   "execution_count": null,
   "id": "9220308d-23b6-4b66-ac3e-70e7b70ca00f",
   "metadata": {},
   "outputs": [],
   "source": [
    "from simpletransformers.classification import ClassificationModel, ClassificationArgs\n",
    "import pandas as pd\n",
    "import logging"
   ]
  },
  {
   "cell_type": "code",
   "execution_count": null,
   "id": "fcdc0844-ebf9-421b-b45f-f6010200ba80",
   "metadata": {},
   "outputs": [],
   "source": [
    "logging.basicConfig(level=logging.INFO)\n",
    "transformers_logger = logging.getLogger(\"transformers\")\n",
    "transformers_logger.setLevel(logging.ERROR)"
   ]
  },
  {
   "cell_type": "code",
   "execution_count": null,
   "id": "efd75929-e070-49d0-96c0-78c76e4762ce",
   "metadata": {},
   "outputs": [],
   "source": [
    "model_args = ClassificationArgs(num_train_epochs=1)"
   ]
  },
  {
   "cell_type": "code",
   "execution_count": null,
   "id": "56fbd4d0-5980-40aa-93c8-b1d34dd8cb36",
   "metadata": {},
   "outputs": [],
   "source": [
    "from sklearn.model_selection import train_test_split\n",
    "train_df, test_df = train_test_split(df,\n",
    "                                     stratify=df[\"labels\"],\n",
    "                                     random_state=42)"
   ]
  },
  {
   "cell_type": "code",
   "execution_count": 64,
   "id": "668acdd1-ef2e-4672-bf74-987cd5506889",
   "metadata": {},
   "outputs": [
    {
     "name": "stderr",
     "output_type": "stream",
     "text": [
      "\u001b[34m\u001b[1mwandb\u001b[0m: \u001b[33mWARNING\u001b[0m Ignored wandb.init() arg project when running a sweep\n"
     ]
    },
    {
     "data": {
      "text/html": [
       "\n",
       "                Tracking run with wandb version 0.10.30<br/>\n",
       "                Syncing run <strong style=\"color:#cdcd00\">amber-sweep-10</strong> to <a href=\"https://wandb.ai\" target=\"_blank\">Weights & Biases</a> <a href=\"https://docs.wandb.com/integrations/jupyter.html\" target=\"_blank\">(Documentation)</a>.<br/>\n",
       "                Project page: <a href=\"https://wandb.ai/satish860/sentiment\" target=\"_blank\">https://wandb.ai/satish860/sentiment</a><br/>\n",
       "                Sweep page: <a href=\"https://wandb.ai/satish860/sentiment/sweeps/x05t19s8\" target=\"_blank\">https://wandb.ai/satish860/sentiment/sweeps/x05t19s8</a><br/>\n",
       "Run page: <a href=\"https://wandb.ai/satish860/sentiment/runs/9dsksi2z\" target=\"_blank\">https://wandb.ai/satish860/sentiment/runs/9dsksi2z</a><br/>\n",
       "                Run data is saved locally in <code>/home/sentiment_analyser/wandb/run-20210524_110950-9dsksi2z</code><br/><br/>\n",
       "            "
      ],
      "text/plain": [
       "<IPython.core.display.HTML object>"
      ]
     },
     "metadata": {},
     "output_type": "display_data"
    },
    {
     "data": {
      "text/html": [
       "<h1>Run(9dsksi2z)</h1><iframe src=\"https://wandb.ai/satish860/sentiment/runs/9dsksi2z\" style=\"border:none;width:100%;height:400px\"></iframe>"
      ],
      "text/plain": [
       "<wandb.sdk.wandb_run.Run at 0x7f5b1cefebe0>"
      ]
     },
     "execution_count": 64,
     "metadata": {},
     "output_type": "execute_result"
    }
   ],
   "source": [
    "wandb.init(project=\"sentiment\")"
   ]
  },
  {
   "cell_type": "code",
   "execution_count": 65,
   "id": "7ab2da20-6d9a-4acd-a8c8-3b0364e51596",
   "metadata": {},
   "outputs": [],
   "source": [
    "import sklearn\n",
    "model_args = ClassificationArgs(num_train_epochs=5)\n",
    "model_args.learning_rate = 1e-5\n",
    "model_args.max_seq_length=128\n",
    "model_args.sliding_window=True\n",
    "model_args.overwrite_output_dir = True\n",
    "model_args.no_cache = True\n",
    "model_args.use_early_stopping = True\n",
    "model_args.early_stopping_delta = 0.01\n",
    "model_args.early_stopping_metric = \"mcc\"\n",
    "model_args.early_stopping_metric_minimize = False\n",
    "model_args.early_stopping_patience = 5\n",
    "model_args.evaluate_during_training_steps = 1000\n",
    "model_args.wandb_project = 'sentiment'"
   ]
  },
  {
   "cell_type": "code",
   "execution_count": 66,
   "id": "2e7cc6bf-40ef-4a43-981c-c898b5741a9f",
   "metadata": {},
   "outputs": [],
   "source": [
    "model = ClassificationModel(\n",
    "    \"roberta\", \"roberta-base\", args=model_args,num_labels=3\n",
    ")"
   ]
  },
  {
   "cell_type": "code",
   "execution_count": 67,
   "id": "58ad463a-6ca1-496c-b9a7-8bda1bbc42f5",
   "metadata": {},
   "outputs": [
    {
     "name": "stderr",
     "output_type": "stream",
     "text": [
      "INFO:simpletransformers.classification.classification_model: Converting to features started. Cache is not used.\n",
      "INFO:simpletransformers.classification.classification_model: Sliding window enabled\n"
     ]
    },
    {
     "data": {
      "application/vnd.jupyter.widget-view+json": {
       "model_id": "b9def54d96a0494eb1763276673bf5ae",
       "version_major": 2,
       "version_minor": 0
      },
      "text/plain": [
       "HBox(children=(FloatProgress(value=0.0, max=3375.0), HTML(value='')))"
      ]
     },
     "metadata": {},
     "output_type": "display_data"
    },
    {
     "name": "stdout",
     "output_type": "stream",
     "text": [
      "\n"
     ]
    },
    {
     "name": "stderr",
     "output_type": "stream",
     "text": [
      "INFO:simpletransformers.classification.classification_model: 6896 features created from 3375 samples.\n"
     ]
    },
    {
     "data": {
      "application/vnd.jupyter.widget-view+json": {
       "model_id": "099a4ffa715d46eeb7f6cd8432c19b29",
       "version_major": 2,
       "version_minor": 0
      },
      "text/plain": [
       "HBox(children=(FloatProgress(value=0.0, description='Epoch', max=5.0, style=ProgressStyle(description_width='i…"
      ]
     },
     "metadata": {},
     "output_type": "display_data"
    },
    {
     "data": {
      "application/vnd.jupyter.widget-view+json": {
       "model_id": "4da3ebc6c9964db99c6abfb13ce4d0d7",
       "version_major": 2,
       "version_minor": 0
      },
      "text/plain": [
       "HBox(children=(FloatProgress(value=0.0, description='Running Epoch 0 of 5', max=862.0, style=ProgressStyle(des…"
      ]
     },
     "metadata": {},
     "output_type": "display_data"
    },
    {
     "name": "stdout",
     "output_type": "stream",
     "text": [
      "\n"
     ]
    },
    {
     "data": {
      "application/vnd.jupyter.widget-view+json": {
       "model_id": "a4bba0e5a74640bbb6542d4393c5e6fe",
       "version_major": 2,
       "version_minor": 0
      },
      "text/plain": [
       "HBox(children=(FloatProgress(value=0.0, description='Running Epoch 1 of 5', max=862.0, style=ProgressStyle(des…"
      ]
     },
     "metadata": {},
     "output_type": "display_data"
    },
    {
     "name": "stdout",
     "output_type": "stream",
     "text": [
      "\n"
     ]
    },
    {
     "data": {
      "application/vnd.jupyter.widget-view+json": {
       "model_id": "84f86d5dcf0042fd988805b2b8eadc79",
       "version_major": 2,
       "version_minor": 0
      },
      "text/plain": [
       "HBox(children=(FloatProgress(value=0.0, description='Running Epoch 2 of 5', max=862.0, style=ProgressStyle(des…"
      ]
     },
     "metadata": {},
     "output_type": "display_data"
    },
    {
     "name": "stdout",
     "output_type": "stream",
     "text": [
      "\n"
     ]
    },
    {
     "data": {
      "application/vnd.jupyter.widget-view+json": {
       "model_id": "71443e14edb044f99bd7265d49cbdcb8",
       "version_major": 2,
       "version_minor": 0
      },
      "text/plain": [
       "HBox(children=(FloatProgress(value=0.0, description='Running Epoch 3 of 5', max=862.0, style=ProgressStyle(des…"
      ]
     },
     "metadata": {},
     "output_type": "display_data"
    },
    {
     "name": "stdout",
     "output_type": "stream",
     "text": [
      "\n"
     ]
    },
    {
     "data": {
      "application/vnd.jupyter.widget-view+json": {
       "model_id": "1c144f24acec44d098f80076eef046e3",
       "version_major": 2,
       "version_minor": 0
      },
      "text/plain": [
       "HBox(children=(FloatProgress(value=0.0, description='Running Epoch 4 of 5', max=862.0, style=ProgressStyle(des…"
      ]
     },
     "metadata": {},
     "output_type": "display_data"
    },
    {
     "name": "stdout",
     "output_type": "stream",
     "text": [
      "\n",
      "\n"
     ]
    },
    {
     "name": "stderr",
     "output_type": "stream",
     "text": [
      "INFO:simpletransformers.classification.classification_model: Training of roberta model complete. Saved to outputs/.\n"
     ]
    },
    {
     "data": {
      "text/plain": [
       "(4310, 0.5264778674545584)"
      ]
     },
     "execution_count": 67,
     "metadata": {},
     "output_type": "execute_result"
    }
   ],
   "source": [
    "model.train_model(train_df,acc=sklearn.metrics.accuracy_score)"
   ]
  },
  {
   "cell_type": "code",
   "execution_count": 68,
   "id": "b0007c0e-e71e-48f2-89ce-0915ce90029b",
   "metadata": {},
   "outputs": [
    {
     "name": "stderr",
     "output_type": "stream",
     "text": [
      "INFO:simpletransformers.classification.classification_model: Converting to features started. Cache is not used.\n",
      "INFO:simpletransformers.classification.classification_model: Sliding window enabled\n"
     ]
    },
    {
     "data": {
      "application/vnd.jupyter.widget-view+json": {
       "model_id": "a87f92e7eba846a38e095661468166e3",
       "version_major": 2,
       "version_minor": 0
      },
      "text/plain": [
       "HBox(children=(FloatProgress(value=0.0, max=1125.0), HTML(value='')))"
      ]
     },
     "metadata": {},
     "output_type": "display_data"
    },
    {
     "name": "stdout",
     "output_type": "stream",
     "text": [
      "\n"
     ]
    },
    {
     "name": "stderr",
     "output_type": "stream",
     "text": [
      "INFO:simpletransformers.classification.classification_model: 1125 features created from 1125 samples.\n"
     ]
    },
    {
     "data": {
      "application/vnd.jupyter.widget-view+json": {
       "model_id": "f27cbc54feb147afbe62a381d0aa3e5f",
       "version_major": 2,
       "version_minor": 0
      },
      "text/plain": [
       "HBox(children=(FloatProgress(value=0.0, description='Running Evaluation', max=267.0, style=ProgressStyle(descr…"
      ]
     },
     "metadata": {},
     "output_type": "display_data"
    },
    {
     "name": "stdout",
     "output_type": "stream",
     "text": [
      "\n"
     ]
    },
    {
     "name": "stderr",
     "output_type": "stream",
     "text": [
      "INFO:simpletransformers.classification.classification_model:{'mcc': 0.6335503732450465, 'acc': 0.7555555555555555, 'eval_loss': 1.0822037806148441}\n"
     ]
    }
   ],
   "source": [
    "result, model_outputs, wrong_predictions = model.eval_model(test_df,acc=sklearn.metrics.accuracy_score)"
   ]
  },
  {
   "cell_type": "markdown",
   "id": "479f65b4-7781-4660-b5c7-824d9784dffa",
   "metadata": {},
   "source": [
    "# Sweep"
   ]
  },
  {
   "cell_type": "code",
   "execution_count": 69,
   "id": "644220d4-3ce1-440a-9631-0cbda1e2f7de",
   "metadata": {},
   "outputs": [],
   "source": [
    "sweep_config = {\n",
    "    \"name\": \"vanilla-sweep-batch-16\",\n",
    "    \"method\": \"bayes\",\n",
    "    \"metric\": {\"name\": \"eval_loss\", \"goal\": \"minimize\"},\n",
    "    \"parameters\": {\n",
    "        \"num_train_epochs\": {\"min\": 1, \"max\": 10},\n",
    "        \"learning_rate\": {\"min\": 0, \"max\": 4e-4},\n",
    "    },\n",
    "    \"early_terminate\": {\"type\": \"hyperband\", \"min_iter\": 6,},\n",
    "}"
   ]
  },
  {
   "cell_type": "code",
   "execution_count": null,
   "id": "01e9345b-66c9-486d-8a94-1872a4c7be00",
   "metadata": {},
   "outputs": [],
   "source": [
    "import wandb\n",
    "sweep_id = wandb.sweep(sweep_config, project=\"sentiment\")"
   ]
  },
  {
   "cell_type": "code",
   "execution_count": null,
   "id": "f292e156-4a82-40a4-8a04-e2f12ef80ffd",
   "metadata": {},
   "outputs": [],
   "source": [
    "model_args = ClassificationArgs()\n",
    "model_args.reprocess_input_data = True\n",
    "model_args.overwrite_output_dir = True\n",
    "model_args.evaluate_during_training = True\n",
    "model_args.manual_seed = 4\n",
    "model_args.use_multiprocessing = True\n",
    "model_args.train_batch_size = 16\n",
    "model_args.eval_batch_size = 8\n",
    "model_args.max_seq_length=128\n",
    "model_args.sliding_window=True\n",
    "model_args.overwrite_output_dir = True\n",
    "model_args.no_cache = True\n",
    "model_args.wandb_project = 'sentiment'"
   ]
  },
  {
   "cell_type": "code",
   "execution_count": null,
   "id": "1ed96560-32b2-4e69-b43f-925e57411f54",
   "metadata": {},
   "outputs": [],
   "source": [
    "def train():\n",
    "    wandb.init()\n",
    "\n",
    "    # Create a TransformerModel\n",
    "    model = ClassificationModel(\n",
    "        \"roberta\",\n",
    "        \"roberta-base\",\n",
    "        num_labels=3,\n",
    "        use_cuda=True,\n",
    "        args=model_args,\n",
    "        sweep_config=wandb.config,\n",
    "    )\n",
    "    model.train_model(train_df, eval_df=test_df)\n",
    "    model.eval_model(test_df)\n",
    "    wandb.join()"
   ]
  },
  {
   "cell_type": "code",
   "execution_count": null,
   "id": "ac13cb7b-2881-4536-bed1-ed6bc99867bb",
   "metadata": {},
   "outputs": [],
   "source": [
    "wandb.agent(sweep_id, train)"
   ]
  },
  {
   "cell_type": "code",
   "execution_count": null,
   "id": "9a0f3c2a-ad7f-4f61-9b0a-c1354899f6d4",
   "metadata": {},
   "outputs": [],
   "source": []
  }
 ],
 "metadata": {
  "kernelspec": {
   "display_name": "Python 3",
   "language": "python",
   "name": "python3"
  },
  "language_info": {
   "codemirror_mode": {
    "name": "ipython",
    "version": 3
   },
   "file_extension": ".py",
   "mimetype": "text/x-python",
   "name": "python",
   "nbconvert_exporter": "python",
   "pygments_lexer": "ipython3",
   "version": "3.8.5"
  }
 },
 "nbformat": 4,
 "nbformat_minor": 5
}
