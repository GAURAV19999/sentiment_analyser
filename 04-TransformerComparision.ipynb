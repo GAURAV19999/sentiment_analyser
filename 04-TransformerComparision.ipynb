{
 "cells": [
  {
   "cell_type": "code",
   "execution_count": 1,
   "id": "1cfbc96b-b0d3-4427-a053-8ba8b42152f4",
   "metadata": {},
   "outputs": [],
   "source": [
    "import pandas as pd"
   ]
  },
  {
   "cell_type": "code",
   "execution_count": 2,
   "id": "767d23cb-3a95-40f5-9191-5c40a7a304ef",
   "metadata": {},
   "outputs": [],
   "source": [
    "df = pd.read_csv('data/small_corpus.csv')"
   ]
  },
  {
   "cell_type": "code",
   "execution_count": 3,
   "id": "17bd44b0-0037-40f1-ae1e-0ad79e817bb6",
   "metadata": {},
   "outputs": [],
   "source": [
    "df.head()\n",
    "df.dropna(subset = [\"reviews\"], inplace=True)"
   ]
  },
  {
   "cell_type": "code",
   "execution_count": 4,
   "id": "9f0e93fc-c86e-4860-bd51-ddfc4830e20a",
   "metadata": {},
   "outputs": [],
   "source": [
    "from nltk.tokenize import TweetTokenizer\n",
    "from emoji import demojize\n",
    "import re\n",
    "\n",
    "tokenizer = TweetTokenizer()\n",
    "\n",
    "def normalizeToken(token):\n",
    "    lowercased_token = token.lower()\n",
    "    if token.startswith(\"@\"):\n",
    "        return \"@USER\"\n",
    "    elif lowercased_token.startswith(\"http\") or lowercased_token.startswith(\"www\"):\n",
    "        return \"HTTPURL\"\n",
    "    elif len(token) == 1:\n",
    "        return demojize(token)\n",
    "    else:\n",
    "        if token == \"’\":\n",
    "            return \"'\"\n",
    "        elif token == \"…\":\n",
    "            return \"...\"\n",
    "        else:\n",
    "            return token\n",
    "\n",
    "def normalizeTweet(tweet):\n",
    "    tokens = tokenizer.tokenize(tweet.replace(\"’\", \"'\").replace(\"…\", \"...\"))\n",
    "    normTweet = \" \".join([normalizeToken(token) for token in tokens])\n",
    "\n",
    "    normTweet = normTweet.replace(\"cannot \", \"can not \").replace(\"n't \", \" n't \").replace(\"n 't \", \" n't \").replace(\"ca n't\", \"can't\").replace(\"ai n't\", \"ain't\")\n",
    "    normTweet = normTweet.replace(\"'m \", \" 'm \").replace(\"'re \", \" 're \").replace(\"'s \", \" 's \").replace(\"'ll \", \" 'll \").replace(\"'d \", \" 'd \").replace(\"'ve \", \" 've \")\n",
    "    normTweet = normTweet.replace(\" p . m .\", \"  p.m.\") .replace(\" p . m \", \" p.m \").replace(\" a . m .\", \" a.m.\").replace(\" a . m \", \" a.m \")\n",
    "\n",
    "    normTweet = re.sub(r\",([0-9]{2,4}) , ([0-9]{2,4})\", r\",\\1,\\2\", normTweet)\n",
    "    normTweet = re.sub(r\"([0-9]{1,3}) / ([0-9]{2,4})\", r\"\\1/\\2\", normTweet)\n",
    "    normTweet = re.sub(r\"([0-9]{1,3})- ([0-9]{2,4})\", r\"\\1-\\2\", normTweet)\n",
    "    \n",
    "    return \" \".join(normTweet.split())"
   ]
  },
  {
   "cell_type": "code",
   "execution_count": 5,
   "id": "ab95a427-c0b2-44f0-b66e-c2f6280f58cc",
   "metadata": {},
   "outputs": [],
   "source": [
    "import re\n",
    "import string\n",
    "def clean_text(text):\n",
    "    '''Make text lowercase, remove text in square brackets,remove links,remove punctuation\n",
    "    and remove words containing numbers.'''\n",
    "    text = str(text).lower()\n",
    "    text = re.sub('\\[.*?\\]', '', text)\n",
    "    text = re.sub('https?://\\S+|www\\.\\S+', '', text)\n",
    "    text = re.sub('<.*?>+', '', text)\n",
    "    text = re.sub('[%s]' % re.escape(string.punctuation), '', text)\n",
    "    text = re.sub('\\n', '', text)\n",
    "    text = re.sub('\\w*\\d\\w*', '', text)\n",
    "    return text"
   ]
  },
  {
   "cell_type": "code",
   "execution_count": 6,
   "id": "ef4b28a9-941a-4194-8883-8c6436449a70",
   "metadata": {},
   "outputs": [],
   "source": [
    "df['text'] = df['reviews'].apply(lambda x:clean_text(normalizeTweet(x)))"
   ]
  },
  {
   "cell_type": "code",
   "execution_count": 7,
   "id": "49663364-a596-4385-addd-f722f10d01f3",
   "metadata": {},
   "outputs": [],
   "source": [
    "def score_to_Target(value):\n",
    "    if value >= 5:\n",
    "        return 2\n",
    "    if value <= 4 and value >= 2:\n",
    "        return 1\n",
    "    else:\n",
    "        return 0"
   ]
  },
  {
   "cell_type": "code",
   "execution_count": 8,
   "id": "dedada87-5e88-49be-9a16-7338d6fb5975",
   "metadata": {},
   "outputs": [],
   "source": [
    "df['labels'] = df['ratings'].apply(lambda x:score_to_Target(x))"
   ]
  },
  {
   "cell_type": "code",
   "execution_count": 9,
   "id": "01216075-02e7-430d-96a8-0ad4ce63395a",
   "metadata": {},
   "outputs": [],
   "source": [
    "from sklearn.utils import shuffle\n",
    "df = shuffle(df)"
   ]
  },
  {
   "cell_type": "code",
   "execution_count": 10,
   "id": "92aa1796-2c02-4b46-abaa-63df43690998",
   "metadata": {},
   "outputs": [],
   "source": [
    "from simpletransformers.classification import ClassificationModel, ClassificationArgs\n",
    "import pandas as pd\n",
    "import logging"
   ]
  },
  {
   "cell_type": "code",
   "execution_count": 11,
   "id": "e33297e3-a3b2-4b75-9e8d-495e55001c0b",
   "metadata": {},
   "outputs": [],
   "source": [
    "logging.basicConfig(level=logging.ERROR)\n",
    "transformers_logger = logging.getLogger(\"transformers\")\n",
    "transformers_logger.setLevel(logging.ERROR)"
   ]
  },
  {
   "cell_type": "code",
   "execution_count": 12,
   "id": "e8d71fd3-0754-4748-ac2a-ba9a05ee9fa7",
   "metadata": {},
   "outputs": [],
   "source": [
    "from sklearn.model_selection import train_test_split\n",
    "train_df, val_df = train_test_split(df,\n",
    "                                     stratify=df[\"labels\"],\n",
    "                                     random_state=42)"
   ]
  },
  {
   "cell_type": "code",
   "execution_count": 13,
   "id": "3975bea1-e966-416e-a314-4dbae112228a",
   "metadata": {},
   "outputs": [],
   "source": [
    "model_args = ClassificationArgs(num_train_epochs=4)\n",
    "model_args.learning_rate = 2e-5\n",
    "model_args.max_seq_length=128\n",
    "model_args.sliding_window=True\n",
    "model_args.overwrite_output_dir = True\n",
    "model_args.evaluate_during_training = True\n",
    "model_args.eval_batch_size = 32\n",
    "model_args.train_batch_size =32\n",
    "model_args.output_dir = 'output/'\n",
    "model_args.best_model_dir = 'bestmodel/'\n",
    "model_args.use_cached_eval_features = True\n",
    "model_args.use_early_stopping = True\n",
    "model_args.early_stopping_metric = 'eval_loss'\n",
    "model_args.early_stopping_metric_minimize = True\n",
    "model_args.save_steps = -1\n",
    "model_args.save_model_every_epoch = False\n",
    "model_args.reprocess_input_data = True"
   ]
  },
  {
   "cell_type": "code",
   "execution_count": 14,
   "id": "c021ac13-e939-4de3-9664-b4878c240ec5",
   "metadata": {},
   "outputs": [],
   "source": [
    "model = ClassificationModel(\n",
    "    \"albert\", \"albert-base-v2\", args=model_args,num_labels=3\n",
    ")"
   ]
  },
  {
   "cell_type": "code",
   "execution_count": 15,
   "id": "9e5f5e8b-0b13-4281-8403-d13e4aa12c4e",
   "metadata": {},
   "outputs": [
    {
     "data": {
      "application/vnd.jupyter.widget-view+json": {
       "model_id": "bc819d0bf4114ad8a1c433751ce96afd",
       "version_major": 2,
       "version_minor": 0
      },
      "text/plain": [
       "HBox(children=(FloatProgress(value=0.0, max=3374.0), HTML(value='')))"
      ]
     },
     "metadata": {},
     "output_type": "display_data"
    },
    {
     "name": "stdout",
     "output_type": "stream",
     "text": [
      "\n"
     ]
    },
    {
     "data": {
      "application/vnd.jupyter.widget-view+json": {
       "model_id": "367113e651174225b6557ff0f34e8f78",
       "version_major": 2,
       "version_minor": 0
      },
      "text/plain": [
       "HBox(children=(FloatProgress(value=0.0, description='Epoch', max=4.0, style=ProgressStyle(description_width='i…"
      ]
     },
     "metadata": {},
     "output_type": "display_data"
    },
    {
     "data": {
      "application/vnd.jupyter.widget-view+json": {
       "model_id": "f0399eb824d54ef4915f446e93990b80",
       "version_major": 2,
       "version_minor": 0
      },
      "text/plain": [
       "HBox(children=(FloatProgress(value=0.0, description='Running Epoch 0 of 4', max=216.0, style=ProgressStyle(des…"
      ]
     },
     "metadata": {},
     "output_type": "display_data"
    },
    {
     "name": "stdout",
     "output_type": "stream",
     "text": [
      "\n"
     ]
    },
    {
     "data": {
      "application/vnd.jupyter.widget-view+json": {
       "model_id": "f13190f9996546d3b84bc918d8de3056",
       "version_major": 2,
       "version_minor": 0
      },
      "text/plain": [
       "HBox(children=(FloatProgress(value=0.0, description='Running Epoch 1 of 4', max=216.0, style=ProgressStyle(des…"
      ]
     },
     "metadata": {},
     "output_type": "display_data"
    },
    {
     "name": "stdout",
     "output_type": "stream",
     "text": [
      "\n"
     ]
    },
    {
     "data": {
      "application/vnd.jupyter.widget-view+json": {
       "model_id": "1662ebee5918442f91e92aa7dd8ed255",
       "version_major": 2,
       "version_minor": 0
      },
      "text/plain": [
       "HBox(children=(FloatProgress(value=0.0, description='Running Epoch 2 of 4', max=216.0, style=ProgressStyle(des…"
      ]
     },
     "metadata": {},
     "output_type": "display_data"
    },
    {
     "name": "stdout",
     "output_type": "stream",
     "text": [
      "\n"
     ]
    },
    {
     "data": {
      "application/vnd.jupyter.widget-view+json": {
       "model_id": "4fe796074f414c0ba9ca86c67ccdfc7d",
       "version_major": 2,
       "version_minor": 0
      },
      "text/plain": [
       "HBox(children=(FloatProgress(value=0.0, description='Running Epoch 3 of 4', max=216.0, style=ProgressStyle(des…"
      ]
     },
     "metadata": {},
     "output_type": "display_data"
    },
    {
     "name": "stdout",
     "output_type": "stream",
     "text": [
      "\n",
      "\n"
     ]
    },
    {
     "data": {
      "text/plain": [
       "(864,\n",
       " {'global_step': [216, 432, 648, 864],\n",
       "  'mcc': [0.6195408121014373,\n",
       "   0.7009285405789194,\n",
       "   0.8040867269196295,\n",
       "   0.8400567524176431],\n",
       "  'train_loss': [0.9630818367004395,\n",
       "   0.48918071389198303,\n",
       "   0.6318419575691223,\n",
       "   0.406562477350235],\n",
       "  'eval_loss': [0.6813986502789162,\n",
       "   0.5576134591891959,\n",
       "   0.4232998631290487,\n",
       "   0.36945050280239133],\n",
       "  'accuracy': [0.7448888888888889,\n",
       "   0.8,\n",
       "   0.8693333333333333,\n",
       "   0.8933333333333333]})"
      ]
     },
     "execution_count": 15,
     "metadata": {},
     "output_type": "execute_result"
    }
   ],
   "source": [
    "import sklearn\n",
    "model.train_model(train_df, eval_df=val_df,accuracy = sklearn.metrics.accuracy_score)"
   ]
  },
  {
   "cell_type": "code",
   "execution_count": 16,
   "id": "7cf70d6d-83bb-49d1-a888-45764d96af2b",
   "metadata": {},
   "outputs": [
    {
     "data": {
      "application/vnd.jupyter.widget-view+json": {
       "model_id": "e906ce3ec72d49d399694df0098f3989",
       "version_major": 2,
       "version_minor": 0
      },
      "text/plain": [
       "HBox(children=(FloatProgress(value=0.0, description='Running Evaluation', max=74.0, style=ProgressStyle(descri…"
      ]
     },
     "metadata": {},
     "output_type": "display_data"
    },
    {
     "name": "stdout",
     "output_type": "stream",
     "text": [
      "\n"
     ]
    }
   ],
   "source": [
    "evalutionModel = model.eval_model(eval_df=val_df,accuracy = sklearn.metrics.accuracy_score)"
   ]
  },
  {
   "cell_type": "code",
   "execution_count": 17,
   "id": "2e30c9df-1a21-4ea5-9a9f-70c25eef17dc",
   "metadata": {},
   "outputs": [],
   "source": [
    "data = [{'modeltype': model_args.model_type, \n",
    "         'model_name': model_args.model_name,\n",
    "         'accuracy':evalutionModel[0]['accuracy'],\n",
    "         'mcc':evalutionModel[0]['mcc'],\n",
    "         'eval_loss':evalutionModel[0]['eval_loss'],\n",
    "        'learning_rate':model_args.learning_rate,\n",
    "        'num_train_epochs':model_args.num_train_epochs,\n",
    "        'max_length':model_args.max_seq_length,\n",
    "        'sliding_window':model_args.sliding_window,\n",
    "        'batch_size':model_args.train_batch_size,\n",
    "        'comment':\"Changed the model to Albert and increasing the learning rate\"}]"
   ]
  },
  {
   "cell_type": "code",
   "execution_count": 18,
   "id": "0c480c89-1e3d-4ccf-8eac-523c8e7c0d22",
   "metadata": {},
   "outputs": [],
   "source": [
    "import os"
   ]
  },
  {
   "cell_type": "code",
   "execution_count": 19,
   "id": "cafb7f40-f7ef-4899-8787-6bcb0a7d6d41",
   "metadata": {},
   "outputs": [],
   "source": [
    "results_df = pd.DataFrame(data)\n",
    "if(os.path.exists('comparision.csv')):\n",
    "    results_csv = pd.read_csv('comparision.csv')\n",
    "    results_csv = results_csv.append(results_df,ignore_index = True)\n",
    "    results_csv.to_csv('comparision.csv',index=False)\n",
    "else:\n",
    "    results_df.to_csv('comparision.csv',index=False)"
   ]
  },
  {
   "cell_type": "code",
   "execution_count": null,
   "id": "8d0ab638-c491-46a2-a920-4677eb888a92",
   "metadata": {},
   "outputs": [],
   "source": []
  }
 ],
 "metadata": {
  "kernelspec": {
   "display_name": "Python 3",
   "language": "python",
   "name": "python3"
  },
  "language_info": {
   "codemirror_mode": {
    "name": "ipython",
    "version": 3
   },
   "file_extension": ".py",
   "mimetype": "text/x-python",
   "name": "python",
   "nbconvert_exporter": "python",
   "pygments_lexer": "ipython3",
   "version": "3.8.5"
  }
 },
 "nbformat": 4,
 "nbformat_minor": 5
}
