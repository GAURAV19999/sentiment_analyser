{
 "cells": [
  {
   "cell_type": "markdown",
   "id": "bd25992f-87f3-4f36-9047-5c6df6284d7e",
   "metadata": {},
   "source": [
    "# Word Tokenization"
   ]
  },
  {
   "cell_type": "code",
   "execution_count": 4,
   "id": "4cd9d49e-c70f-4ec9-b4d2-f5e32b0a2221",
   "metadata": {},
   "outputs": [],
   "source": [
    "import nltk\n",
    "from nltk.tokenize import word_tokenize,sent_tokenize"
   ]
  },
  {
   "cell_type": "code",
   "execution_count": null,
   "id": "77afdb1b-df82-48ed-80bc-5fd9d0a4c1c2",
   "metadata": {},
   "outputs": [],
   "source": [
    "nltk.download('all')"
   ]
  },
  {
   "cell_type": "code",
   "execution_count": 6,
   "id": "766a58fe-6ab6-4c2b-a86e-f12ae4a8a117",
   "metadata": {},
   "outputs": [
    {
     "data": {
      "text/plain": [
       "['Hello', 'World', '!', '!']"
      ]
     },
     "execution_count": 6,
     "metadata": {},
     "output_type": "execute_result"
    }
   ],
   "source": [
    "word_tokenize(\"Hello World!!\")"
   ]
  },
  {
   "cell_type": "markdown",
   "id": "b97cddbc-07c9-4d25-9336-dc95f96fe61b",
   "metadata": {},
   "source": [
    "# Sentence Tokenization"
   ]
  },
  {
   "cell_type": "code",
   "execution_count": 9,
   "id": "030f5ff9-5895-49f5-85e1-f213f46b0523",
   "metadata": {},
   "outputs": [
    {
     "data": {
      "text/plain": [
       "['Hello!!!',\n",
       " 'I am doing this for manning project.',\n",
       " 'I believe this helps me to work with project there by learning!',\n",
       " '!']"
      ]
     },
     "execution_count": 9,
     "metadata": {},
     "output_type": "execute_result"
    }
   ],
   "source": [
    "sent_tokenize(\"Hello!!! I am doing this for manning project. I believe this helps me to work with project there by learning!!\")"
   ]
  },
  {
   "cell_type": "markdown",
   "id": "3ba7b2b0-c01e-4bc3-baba-31c0ce1d419f",
   "metadata": {},
   "source": [
    "# scoring of the reviews"
   ]
  },
  {
   "cell_type": "code",
   "execution_count": 10,
   "id": "082bc20a-e5c2-4e19-a711-cd8f9377e33d",
   "metadata": {},
   "outputs": [],
   "source": [
    "from vaderSentiment.vaderSentiment import SentimentIntensityAnalyzer"
   ]
  },
  {
   "cell_type": "code",
   "execution_count": 11,
   "id": "6722e8de-3f46-4d08-80cf-6571b0dacd7d",
   "metadata": {},
   "outputs": [],
   "source": [
    "analyser = SentimentIntensityAnalyzer()"
   ]
  },
  {
   "cell_type": "code",
   "execution_count": 12,
   "id": "bd4ddd7d-ba54-47e8-9a95-53e23e210310",
   "metadata": {},
   "outputs": [],
   "source": [
    "def print_sentiment_scores(sentence):\n",
    "    snt = analyser.polarity_scores(sentence)\n",
    "    print(\"{:-<40} {}\".format(sentence, str(snt)))"
   ]
  },
  {
   "cell_type": "code",
   "execution_count": 13,
   "id": "4037932e-2c70-47c3-8281-d06a3e2c2851",
   "metadata": {},
   "outputs": [
    {
     "name": "stdout",
     "output_type": "stream",
     "text": [
      "I just got a call from my boss - does he realise it's Saturday? {'neg': 0.0, 'neu': 1.0, 'pos': 0.0, 'compound': 0.0}\n"
     ]
    }
   ],
   "source": [
    "print_sentiment_scores(\"I just got a call from my boss - does he realise it's Saturday?\")"
   ]
  },
  {
   "cell_type": "code",
   "execution_count": 14,
   "id": "c25d76f7-548a-46d1-a252-769c82fefa4d",
   "metadata": {},
   "outputs": [
    {
     "name": "stdout",
     "output_type": "stream",
     "text": [
      "I just got a call from my boss - does he realise it's Saturday? :( {'neg': 0.172, 'neu': 0.828, 'pos': 0.0, 'compound': -0.4404}\n"
     ]
    }
   ],
   "source": [
    "print_sentiment_scores(\"I just got a call from my boss - does he realise it's Saturday? :(\")"
   ]
  },
  {
   "cell_type": "code",
   "execution_count": 15,
   "id": "e9e2854a-cfc0-4fef-ac1f-3e6f0b0da2b4",
   "metadata": {},
   "outputs": [],
   "source": [
    "import pandas as pd"
   ]
  },
  {
   "cell_type": "code",
   "execution_count": 17,
   "id": "66d45b6a-fc78-411d-91df-4a08950d0774",
   "metadata": {},
   "outputs": [],
   "source": [
    "df = pd.read_csv('data/small_corpus.csv')"
   ]
  },
  {
   "cell_type": "code",
   "execution_count": 19,
   "id": "3a76dbed-06d6-4540-89bc-c9109f8df99e",
   "metadata": {},
   "outputs": [],
   "source": [
    "df['reviews']= df['reviews'].astype(str)\n",
    "df['scores']=df['reviews'].apply(lambda review: analyser.polarity_scores(review))"
   ]
  },
  {
   "cell_type": "code",
   "execution_count": 20,
   "id": "1809ba03-e6ab-491a-9dd1-387b12ab8d6e",
   "metadata": {},
   "outputs": [],
   "source": [
    "df['compound']  = df['scores'].apply(lambda score_dict: score_dict['compound'])"
   ]
  },
  {
   "cell_type": "code",
   "execution_count": 21,
   "id": "8af745e2-e094-4067-a021-49769d0c3741",
   "metadata": {},
   "outputs": [],
   "source": [
    "df['comp_score'] = df['compound'].apply(lambda c: 'pos' if c >=0 else 'neg')"
   ]
  },
  {
   "cell_type": "code",
   "execution_count": null,
   "id": "9870b4e6-e687-4ca8-ab3d-917141bfd8b6",
   "metadata": {},
   "outputs": [],
   "source": []
  }
 ],
 "metadata": {
  "kernelspec": {
   "display_name": "Python 3",
   "language": "python",
   "name": "python3"
  },
  "language_info": {
   "codemirror_mode": {
    "name": "ipython",
    "version": 3
   },
   "file_extension": ".py",
   "mimetype": "text/x-python",
   "name": "python",
   "nbconvert_exporter": "python",
   "pygments_lexer": "ipython3",
   "version": "3.8.5"
  }
 },
 "nbformat": 4,
 "nbformat_minor": 5
}
